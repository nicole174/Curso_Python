{
 "cells": [
  {
   "cell_type": "markdown",
   "metadata": {},
   "source": [
    "## Ejercicio: Uso de funciones en Python"
   ]
  },
  {
   "cell_type": "code",
   "execution_count": 5,
   "metadata": {},
   "outputs": [
    {
     "name": "stdout",
     "output_type": "stream",
     "text": [
      "El consumo promedio de los 3 tanques es de: 696.0 litros \n",
      "Conbustible consumido por cada tanque del cohete: \n",
      "Primer tanque: 520 litros \n",
      "Segundo tanque: 826 litros \n",
      "Tercer tanque: 742 litros\n"
     ]
    }
   ],
   "source": [
    "def reporte(primer_tanque, segundo_tanque, tercer_tanque):\n",
    "    return f\"El consumo promedio de los 3 tanques es de: {(primer_tanque + segundo_tanque + tercer_tanque) / 3} litros \\nConbustible consumido por cada tanque del cohete: \\nPrimer tanque: {primer_tanque} litros \\nSegundo tanque: {segundo_tanque} litros \\nTercer tanque: {tercer_tanque} litros\"\n",
    "print(reporte(520, 826, 742))"
   ]
  },
  {
   "cell_type": "code",
   "execution_count": 6,
   "metadata": {},
   "outputs": [
    {
     "name": "stdout",
     "output_type": "stream",
     "text": [
      "80.0\n"
     ]
    }
   ],
   "source": [
    "def promedio(primer_tanque, segundo_tanque, tercer_tanque):\n",
    "    return (primer_tanque + segundo_tanque + tercer_tanque) / 3\n",
    "print(promedio(75, 97, 68))"
   ]
  },
  {
   "cell_type": "code",
   "execution_count": 8,
   "metadata": {},
   "outputs": [
    {
     "name": "stdout",
     "output_type": "stream",
     "text": [
      "El consumo promedio de los 3 tanques es de: 40.0 litros \n",
      "Conbustible consumido por cada tanque del cohete: \n",
      "Primer tanque: 52 litros \n",
      "Segundo tanque: 26 litros \n",
      "Tercer tanque: 42 litros\n"
     ]
    }
   ],
   "source": [
    "def reporte(primer_tanque, segundo_tanque, tercer_tanque):\n",
    "    return f\"El consumo promedio de los 3 tanques es de: {promedio(primer_tanque, segundo_tanque, tercer_tanque)} litros \\nConbustible consumido por cada tanque del cohete: \\nPrimer tanque: {primer_tanque} litros \\nSegundo tanque: {segundo_tanque} litros \\nTercer tanque: {tercer_tanque} litros\"\n",
    "print(reporte(52, 26, 42))"
   ]
  },
  {
   "cell_type": "markdown",
   "metadata": {},
   "source": [
    "## Ejercicio 2: Trabajo con argumentos de palabra clave"
   ]
  },
  {
   "cell_type": "code",
   "execution_count": 11,
   "metadata": {},
   "outputs": [
    {
     "name": "stdout",
     "output_type": "stream",
     "text": [
      "Informe completo de cohete: \n",
      "Hora de prelanzamiento: 16:15:32 hrs \n",
      "Tiempo de vuelo: 50 hrs \n",
      "Destino: Planeta Venus \n",
      "Tanque externo: 8547 litros \n",
      "Tanque interno: 12547 litros\n"
     ]
    }
   ],
   "source": [
    "def informe(hora_prelanzamiento, tiempo_vuelo, destino, tanque_externo, tanque_interno):\n",
    "    return f\"Informe completo de cohete: \\nHora de prelanzamiento: {hora_prelanzamiento} hrs \\nTiempo de vuelo: {tiempo_vuelo} hrs \\nDestino: Planeta {destino} \\nTanque externo: {tanque_externo} litros \\nTanque interno: {tanque_interno} litros\"\n",
    "print(informe(\"16:15:32\", 50, \"Venus\", 8547, 12547))"
   ]
  },
  {
   "cell_type": "code",
   "execution_count": 14,
   "metadata": {},
   "outputs": [
    {
     "name": "stdout",
     "output_type": "stream",
     "text": [
      "Informe completo de cohete: \n",
      "Hora total del viaje: 150 hrs \n",
      "Destino: Planeta Venus \n",
      "Número de tanques: 3 tanques \n",
      "Combustible total de los tanques: 32656 litros\n"
     ]
    }
   ],
   "source": [
    "def informe(destino, *minutes, **fuel_reservoirs):\n",
    "    return f\"Informe completo de cohete: \\nHora total del viaje: {sum(minutes)} hrs \\nDestino: Planeta {destino} \\nNúmero de tanques: {len(fuel_reservoirs)} tanques \\nCombustible total de los tanques: {sum(fuel_reservoirs.values())} litros\"\n",
    "print(informe(\"Venus\", 50, 20, 80, tanque_uno = 9547, tanque_dos = 15547, tanque_tres = 7562))"
   ]
  },
  {
   "cell_type": "code",
   "execution_count": 22,
   "metadata": {},
   "outputs": [
    {
     "name": "stdout",
     "output_type": "stream",
     "text": [
      "Informe completo de cohete: \n",
      "Hora total del viaje: 150 hrs \n",
      "Destino: Planeta Venus \n",
      "Número de tanques: 3 tanques\n",
      "tanque_uno --> 9547 litros\n",
      "tanque_dos --> 15547 litros\n",
      "tanque_tres --> 7562 litros\n"
     ]
    }
   ],
   "source": [
    "def informe(destino, *minutes, **fuel_reservoirs):\n",
    "    print(f\"Informe completo de cohete: \\nHora total del viaje: {sum(minutes)} hrs \\nDestino: Planeta {destino} \\nNúmero de tanques: {len(fuel_reservoirs)} tanques\")\n",
    "    for tank_name, gallons in fuel_reservoirs.items():\n",
    "        print(f\"{tank_name} --> {gallons} litros\")\n",
    "informe(\"Venus\", 50, 20, 80, tanque_uno = 9547, tanque_dos = 15547, tanque_tres = 7562)"
   ]
  }
 ],
 "metadata": {
  "interpreter": {
   "hash": "780a354d57c8e214d9717ce5db3cb79ec448e2663d29d7e7694b88eee37d2c96"
  },
  "kernelspec": {
   "display_name": "Python 3.10.2 64-bit",
   "language": "python",
   "name": "python3"
  },
  "language_info": {
   "codemirror_mode": {
    "name": "ipython",
    "version": 3
   },
   "file_extension": ".py",
   "mimetype": "text/x-python",
   "name": "python",
   "nbconvert_exporter": "python",
   "pygments_lexer": "ipython3",
   "version": "3.10.2"
  },
  "orig_nbformat": 4
 },
 "nbformat": 4,
 "nbformat_minor": 2
}
