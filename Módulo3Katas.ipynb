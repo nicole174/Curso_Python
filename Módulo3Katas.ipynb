{
 "cells": [
  {
   "cell_type": "markdown",
   "metadata": {},
   "source": [
    "## Ejercicio - Escribir declaraciones if, else, y elif"
   ]
  },
  {
   "cell_type": "code",
   "execution_count": 3,
   "metadata": {},
   "outputs": [
    {
     "name": "stdout",
     "output_type": "stream",
     "text": [
      "El mundo se va a acabar\n"
     ]
    }
   ],
   "source": [
    "iris = 49\n",
    "\n",
    "if iris > 25:\n",
    "    print('El mundo se va a acabar')\n",
    "else:\n",
    "    print('Sigue conquistando a tu crush')"
   ]
  },
  {
   "cell_type": "code",
   "execution_count": 14,
   "metadata": {},
   "outputs": [
    {
     "name": "stdout",
     "output_type": "stream",
     "text": [
      "El asteroide Metis no paso por el planeta\n"
     ]
    }
   ],
   "source": [
    "metis = 19\n",
    "\n",
    "if metis >= 20:\n",
    "    print('Ciudadano busca el asteroide Metis en el cielo')\n",
    "elif metis < 20:\n",
    "    print('El asteroide Metis no paso por el planeta')\n",
    "else:\n",
    "    print('El astronauta Miguel regresara bien a la tierra')"
   ]
  },
  {
   "cell_type": "markdown",
   "metadata": {},
   "source": [
    "## Ejercicio: Uso de operadores and y or"
   ]
  },
  {
   "cell_type": "code",
   "execution_count": 46,
   "metadata": {},
   "outputs": [
    {
     "name": "stdout",
     "output_type": "stream",
     "text": [
      "Corre por tu vida, esta apunto de caer el asteroide Hebe\n"
     ]
    }
   ],
   "source": [
    "tamañoHebe = 25\n",
    "velocidadHebe = 25\n",
    "\n",
    "if tamañoHebe > 25 and tamañoHebe < 1000:\n",
    "    print('El asteroide Hebe esta apunto de destruir la tierra... Corre!!')\n",
    "elif velocidadHebe >= 25:\n",
    "    print('Corre por tu vida, esta apunto de caer el asteroide Hebe')\n",
    "elif velocidadHebe >= 20 and velocidadHebe <= 24:\n",
    "    print('Hoy habrá una lluvia de estrellas gracias al asteroide Hebe que esta pasando cerca de la tierra')\n",
    "else:\n",
    "    print('Si tienes tele ahí te vez')"
   ]
  }
 ],
 "metadata": {
  "interpreter": {
   "hash": "780a354d57c8e214d9717ce5db3cb79ec448e2663d29d7e7694b88eee37d2c96"
  },
  "kernelspec": {
   "display_name": "Python 3.10.2 64-bit",
   "language": "python",
   "name": "python3"
  },
  "language_info": {
   "codemirror_mode": {
    "name": "ipython",
    "version": 3
   },
   "file_extension": ".py",
   "mimetype": "text/x-python",
   "name": "python",
   "nbconvert_exporter": "python",
   "pygments_lexer": "ipython3",
   "version": "3.10.2"
  },
  "orig_nbformat": 4
 },
 "nbformat": 4,
 "nbformat_minor": 2
}
